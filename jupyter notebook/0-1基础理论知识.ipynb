{
 "cells": [
  {
   "cell_type": "markdown",
   "metadata": {},
   "source": [
    "协方差矩阵  相关系数  NP难问题"
   ]
  },
  {
   "cell_type": "markdown",
   "metadata": {},
   "source": [
    "- 方差用来度量单个随机变量的离散程度\n",
    "- 协方差用来刻画两个随机变量的相似程度\n",
    "- N个随机变量两两之间的协方差可构成协方差矩阵"
   ]
  },
  {
   "cell_type": "markdown",
   "metadata": {},
   "source": [
    "方差的计算公式如下：\n",
    "\n",
    "$$\\sigma^2_x=\\frac{1}{n-1}(x_i-\\bar{x})^2$$\n",
    "\n",
    "$n$表示观测样本量，$\\bar{x}$为观测样本的均值"
   ]
  },
  {
   "cell_type": "markdown",
   "metadata": {},
   "source": [
    "协方差的计算公式如下：\n",
    "\n",
    "$$\\sigma(x,y)=\\frac{1}{n-1}\\sum_{i=1}^n(x_i-\\bar{x})(y_i-\\bar{y})$$\n",
    "\n",
    "$\\bar{x},\\bar{y}$分别表示两个随机变量所对应的观测样本均值，方差可看做随机变量与自身的协方差"
   ]
  },
  {
   "cell_type": "markdown",
   "metadata": {},
   "source": [
    "https://zhuanlan.zhihu.com/p/46626607  马氏距离的推导，涉及到主成分，旋转等，先看完后面的章节再回来"
   ]
  }
 ],
 "metadata": {
  "kernelspec": {
   "display_name": "Python 3",
   "language": "python",
   "name": "python3"
  },
  "language_info": {
   "codemirror_mode": {
    "name": "ipython",
    "version": 3
   },
   "file_extension": ".py",
   "mimetype": "text/x-python",
   "name": "python",
   "nbconvert_exporter": "python",
   "pygments_lexer": "ipython3",
   "version": "3.7.4"
  }
 },
 "nbformat": 4,
 "nbformat_minor": 2
}
