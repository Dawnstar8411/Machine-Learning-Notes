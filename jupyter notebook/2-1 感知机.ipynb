{
 "cells": [
  {
   "cell_type": "markdown",
   "metadata": {},
   "source": [
    "## 感知机"
   ]
  },
  {
   "cell_type": "markdown",
   "metadata": {},
   "source": [
    "### 1. 基本概念"
   ]
  },
  {
   "cell_type": "markdown",
   "metadata": {},
   "source": [
    "感知机是一个用于二类分类的线性判别模型，其输入为样本的特征向量，输出为样本的类别。感知机对应于特征空间中将样本划分为两类的分离超平面。其假设空间是定义在特征空间中的所有线性分类模型：${f|f(x)=w·x+b}$"
   ]
  },
  {
   "cell_type": "markdown",
   "metadata": {},
   "source": [
    "数据集的线性可分性：给定一个数据集，如果存在某个超平面S:$w·x+b=0$,能够将数据集的正实例点和负实例点完全正确的划分到超平面的两侧，则称数据集T为线性可分数据集，否则称数据集T线性不可分。"
   ]
  },
  {
   "cell_type": "markdown",
   "metadata": {},
   "source": [
    "训练策略： 感知机的损失函数采用误分类点到超平面S的总距离。\n",
    "\n",
    "输入空间$R^n$中任一点$x_0$到超平面S的距离为 $\\frac{1}{||w||}|w·x_0+b$,其中$||w||$是$w$的$L_2$范数。\n",
    "\n",
    "对于误分类的点$(x_i,y_i)$来说，$-y_i(w·x_i+b)>0$成立。因此误分类点到超平面S的距离是$-\\frac{1}{||w||}y_i(w·x_i+b)$"
   ]
  },
  {
   "cell_type": "markdown",
   "metadata": {},
   "source": [
    "### 2. 感知机学习算法的原始形式"
   ]
  },
  {
   "cell_type": "markdown",
   "metadata": {},
   "source": [
    "给定一个训练集\n",
    "\n",
    "$$T={(x_1,y_1},(x_2,y_2),\\dots,(x_N,y_N)$$，求参数w,b,使其为以下损失函数极小化问题的解：\n",
    "\n",
    "$$\\min_{w,b}L(w,b)=-\\sum_{x_i\\in M}y_i(w·x_i+b)$$\n",
    "\n",
    "其中M为误分类点的集合。\n",
    "\n",
    "感知机的训练采用梯度下降法，首先任意选择一个超平面$w_0,b_0$，然后用梯度下降法不断地极小化目标函数，极小化过程中不是一次使M中所有误分类点的梯度下降，而是一次随机选取一个误分类点使其梯度下降。\n",
    "\n",
    "假设误分类点集合M是固定的，那么损失函数$L(w,b)$的梯度为：\n",
    "\n",
    "$$\\bigtriangledown_wL(w,b)=-\\sum_{x_i\\in M}y_ix_i$$\n",
    "\n",
    "$$\\bigtriangledown_bL(w,b)=-\\sum_{x_i\\in M}y_i$$"
   ]
  },
  {
   "cell_type": "markdown",
   "metadata": {},
   "source": [
    "算法描述：\n",
    "\n",
    "输入：训练数据集$T={(x_1,y_1},(x_2,y_2),\\dots,(x_N,y_N)$，其中$x_i\\in R^n,y_i\\in {-1,+1},i=1,2,\\dots,N$，学习率$1<\\eta\\leq 1$\n",
    "\n",
    "输入：w,b\n",
    "\n",
    "(1) 选取初值$w_0,b_0$\n",
    "\n",
    "(2) 在训练集中选取数据$(x_i,y_i)$\n",
    "\n",
    "(3) 如果$-y_i(w·x+b)\\geq0$,进行梯度更新\n",
    "\n",
    "$$w\\gets w+\\eta y_ix_i$$\n",
    "\n",
    "$$b\\gets b+\\eta y_i$$\n",
    "\n",
    "(4)转至(2)，直至训练集中没有误分类点"
   ]
  },
  {
   "cell_type": "markdown",
   "metadata": {},
   "source": [
    "对于线性可分数据集感知机学习算法那原始形式收敛，即经过有限次迭代可以得到一个将训练数据集完全正确划分的分离超平面及感知机模型。"
   ]
  },
  {
   "cell_type": "markdown",
   "metadata": {},
   "source": [
    "### 3. 感知机学习算法的对偶形式"
   ]
  },
  {
   "cell_type": "markdown",
   "metadata": {},
   "source": [
    "对偶形式的基本想法是，将$w$和$b$表示为实例$x_i$和标记$y_i$的线性组合形式，通过求解其系数而求得$w$和$b$,假设初始值$w_0,b_0$均为0，对误分类点通过\n",
    "\n",
    "$$w\\gets w+\\eta y_ix_i$$\n",
    "\n",
    "$$b\\gets b+\\eta y_i$$\n",
    "\n",
    "来逐步修改$w,b$。因为最终肯定会收敛，也就是说参数更新的总次数是一定的，在这些次更新中，点$(x_1,y_1)$被使用了$n_1$次，$(x_2,y_2)$被使用了$n_2$次，$(x_i,y_i)$被用了$n_i$次，则$w,b$关于$(x_i,y_i)$的增量分别是$\\alpha y_ix_i=n_i\\eta$。则最后学习到的$w,b$可以分别表示为\n",
    "\n",
    "$$w=\\sum^{N}_{i=1}\\alpha_i y_ix_i$$\n",
    "\n",
    "$$b=\\sum^{N}_{i=1}\\alpha_i y_i$$"
   ]
  },
  {
   "cell_type": "markdown",
   "metadata": {},
   "source": [
    "算法描述：\n",
    "\n",
    "输入：训练数据集$T={(x_1,y_1},(x_2,y_2),\\dots,(x_N,y_N)$，其中$x_i\\in R^n,y_i\\in {-1,+1},i=1,2,\\dots,N$，学习率$1<\\eta\\leq 1$\n",
    "\n",
    "输出：$\\alpha,b$\n",
    "\n",
    "(1) $\\alpha\\gets0,b\\gets0$\n",
    "\n",
    "(2) 在训练集中选取数据$(x_i,y_i)$\n",
    "\n",
    "(3) 如果$-y_i(\\sum_{j=1}^N\\alpha_jy_jx_j·x_i+b)\\geq0$,\n",
    "\n",
    "$$\\alpha_i\\gets \\alpha_i+\\eta$$\n",
    "\n",
    "$$b\\gets b+\\eta y_i$$\n",
    "\n",
    "(4) 转至(2)直到没有误分类数据。"
   ]
  },
  {
   "cell_type": "markdown",
   "metadata": {},
   "source": []
  },
  {
   "cell_type": "markdown",
   "metadata": {},
   "source": []
  },
  {
   "cell_type": "markdown",
   "metadata": {},
   "source": []
  },
  {
   "cell_type": "markdown",
   "metadata": {},
   "source": []
  }
 ],
 "metadata": {
  "kernelspec": {
   "display_name": "Python 3",
   "language": "python",
   "name": "python3"
  },
  "language_info": {
   "codemirror_mode": {
    "name": "ipython",
    "version": 3
   },
   "file_extension": ".py",
   "mimetype": "text/x-python",
   "name": "python",
   "nbconvert_exporter": "python",
   "pygments_lexer": "ipython3",
   "version": "3.7.4"
  }
 },
 "nbformat": 4,
 "nbformat_minor": 2
}
