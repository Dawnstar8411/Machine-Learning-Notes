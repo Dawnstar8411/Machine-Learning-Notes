{
 "cells": [
  {
   "cell_type": "markdown",
   "metadata": {},
   "source": [
    "### 奇异值分解"
   ]
  },
  {
   "cell_type": "markdown",
   "metadata": {},
   "source": [
    "### 1. 奇异值分解的定义与兴致"
   ]
  },
  {
   "cell_type": "markdown",
   "metadata": {},
   "source": [
    "#### 1.1 奇异值分解：\n",
    "\n",
    "矩阵的奇异值分解是指，将一个非零的$m\\times n$实矩阵$A,A\\in R^{m\\times n}$,表示为一下三个实矩阵乘积形式的运算，即进行矩阵的因子分解：\n",
    "\n",
    "$$A=U\\Sigma V^T$$\n",
    "\n",
    "其中，$U$是m阶正交矩阵，$V$是n阶正交矩阵，$\\Sigma$是由降序排列的非负的对角线元素组成的$m\\times n$矩形对角矩阵。$\\Sigma$的对角线元素称为矩阵的奇异值，$U$的列向量称为左奇异向量，$V$的列向量称为右奇异向量。"
   ]
  },
  {
   "cell_type": "markdown",
   "metadata": {},
   "source": [
    "对于任何一个矩阵，其肯定存在奇异值分解，但奇异值分解并不一定是唯一的。"
   ]
  },
  {
   "cell_type": "markdown",
   "metadata": {},
   "source": [
    "#### 1.2 紧奇异值分解与截断奇异值分解"
   ]
  },
  {
   "cell_type": "markdown",
   "metadata": {},
   "source": [
    "紧奇异值分解：\n",
    "\n",
    "设有$m\\times n$实矩阵A，其秩为$rank(A)=r,r\\leq \\min(m,n)$,则称$U_r\\Sigma_rV_r^T$为A的紧奇异值分解，其中$U_r$是$m\\times n$矩阵，$V_r$是$n\\times r$矩阵，$\\Sigma_r$是r阶对角矩阵，矩阵$U_r$由完全奇异值分解中U的前r列，矩阵$V_r$由V的前r列，矩阵$\\Sigma_r$由$\\Sigma$的前r个对角线元素得到。紧奇异值分解的对角矩阵的值与原始矩阵A的秩相等。"
   ]
  },
  {
   "cell_type": "markdown",
   "metadata": {},
   "source": [
    "截断奇异值分解：\n",
    "\n",
    "在矩阵的奇异值分解中，只取最大的k个奇异值对应的部分，就得到矩阵的截断奇异值分解，实际应用中提到矩阵的奇异值分解时，通常指截断奇异值分解，\n",
    "\n",
    "设有$m\\times n$实矩阵A，其秩为$rank(A)=r,且 0<k<r$,则称$U_k\\Sigma_kV_k^T$为A的截断奇异值分解，其中$U_k$是$m\\times k$矩阵，$V_k$是$n\\times k$矩阵，$\\Sigma_k$是k阶对角矩阵，矩阵$U_k$由完全奇异值分解中U的前k列，矩阵$V_k$由V的前k列，矩阵$\\Sigma_k$由$\\Sigma$的前k个对角线元素得到。紧奇异值分解的对角矩阵的值与原始矩阵A的秩相等。"
   ]
  },
  {
   "cell_type": "markdown",
   "metadata": {},
   "source": [
    "实际应用中，常常需要对矩阵的数据进行压缩，从而近似的表示原始数据，奇异值分解提供了一种方法。 奇异值分解是在平方损失意义下对矩阵的最优近似。紧奇异值分解对应着无损压缩，截断奇异值分解对应着有损压缩。"
   ]
  },
  {
   "cell_type": "markdown",
   "metadata": {},
   "source": [
    "#### 1.3 几何解释"
   ]
  },
  {
   "cell_type": "markdown",
   "metadata": {},
   "source": [
    "从线性变换的角度理解奇异值分解，$m\\times n$矩阵A表示从n维空间到m维空间的一个线性变换。V和U都是正交矩阵，所以V的列向量构成$R^n$空间的一组标准正交基，表示$R^n$中的正交坐标系的旋转或反射变换；U的列向量构成$R^m$空间的一组标准正交基，表示$R^m$中的正交坐标系的旋转或反射变换;$\\Sigma$的对角元素是一组非负实数，表示$R^n$中的原始正交坐标系坐标轴的缩放变换。"
   ]
  },
  {
   "cell_type": "markdown",
   "metadata": {},
   "source": [
    "### 2. 奇异值分解的计算"
   ]
  },
  {
   "cell_type": "markdown",
   "metadata": {},
   "source": [
    "给定$m\\times n$的矩阵A,求其奇异值分解的步骤如下：\n",
    "\n",
    "(1) 求$A^TA$的特征值和特征向量\n",
    "\n",
    "计算对称矩阵$W=A^TA$,求解特征方程\n",
    "\n",
    "$$(W-\\lambda I)x=0$$\n",
    "\n",
    "得到特征值$\\lambda_i$,并将特征值由大到小排列，将特征值$\\lambda_i$代入特征方程求得相应的特征向量。\n",
    "\n",
    "(2) 求n阶正交矩阵V\n",
    "\n",
    "将特征向量单位化，得到单位特征向量$v_1,v_2,\\dots,V_n$，构成n阶正交矩阵\n",
    "\n",
    "$$V=[v_1,v_2,\\dots,v_n]$$\n",
    "\n",
    "(3) 求$m\\times n$对角矩阵$\\Sigma$\n",
    "\n",
    "计算A的奇异值\n",
    "\n",
    "$$\\sigma_i=\\sqrt\\lambda_i, i=1,2,\\dots,n$$\n",
    "\n",
    "构造$m\\times n$矩形对角矩阵$\\Sigma$，主对角线元素是奇异值，其余元素是零。\n",
    "\n",
    "$$\\Sigma=diag(\\sigma_1,\\sigma_2,\\dots,\\sigma_n)$$\n",
    "\n",
    "(4) 求m阶正交矩阵U\n",
    "\n",
    "对A的前r个正奇异值，令\n",
    "\n",
    "$$u_j=\\frac{1}{\\sigma_j}Av_j, j=1,2,\\dots,r$$\n",
    "\n",
    "得到\n",
    "\n",
    "$$U_1=[u_1 u_2 \\dots u_r]$$\n",
    "\n",
    "求$A^T$的零空间的一组标准正交基{u_{r+1} u_{r+2} \\dots u_m}\n",
    "\n",
    "令\n",
    "\n",
    "$$U_2=[u_{r+1} u_{r+2} \\dots u_m]$$\n",
    "\n",
    "并令\n",
    "\n",
    "$$U=[U_1 U_2]$$\n",
    "\n",
    "(5) 得到奇异值分解"
   ]
  },
  {
   "cell_type": "markdown",
   "metadata": {},
   "source": [
    "### 3. 奇异值分解与矩阵近似"
   ]
  },
  {
   "cell_type": "markdown",
   "metadata": {},
   "source": [
    "#### 3.1 Frobeniusnorm "
   ]
  },
  {
   "cell_type": "markdown",
   "metadata": {},
   "source": [
    "设矩阵$A\\in R^{m\\times n}, A=[a_{ij}]_{m\\times n}$,则定义矩阵A的F范数为\n",
    "\n",
    "$$||A||_F=(\\sum_{i=1}^m\\sum_{j=1}^n(a_{ij})^2)^{\\frac{1}{2}}$$"
   ]
  },
  {
   "cell_type": "markdown",
   "metadata": {},
   "source": [
    "$A\\in R^{m\\times n}$, A的奇异值分解为$U\\Sigma V^T$,其中$\\Sigma=diag(\\sigma_1,\\sigma_2,\\dots,\\sigma_n)$，则：\n",
    "\n",
    "$$||A||_F=(\\sigma_1^2+\\sigma_2^2+\\dots+\\sigma_n^2)^{\\frac{1}{2}}$$"
   ]
  },
  {
   "cell_type": "markdown",
   "metadata": {},
   "source": [
    "奇异值分解是在平方损失(F范数)意义下对矩阵的最优近似，即数据压缩"
   ]
  }
 ],
 "metadata": {
  "kernelspec": {
   "display_name": "Python 3",
   "language": "python",
   "name": "python3"
  },
  "language_info": {
   "codemirror_mode": {
    "name": "ipython",
    "version": 3
   },
   "file_extension": ".py",
   "mimetype": "text/x-python",
   "name": "python",
   "nbconvert_exporter": "python",
   "pygments_lexer": "ipython3",
   "version": "3.7.4"
  }
 },
 "nbformat": 4,
 "nbformat_minor": 2
}
