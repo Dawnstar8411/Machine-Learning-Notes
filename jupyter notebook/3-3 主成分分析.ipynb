{
 "cells": [
  {
   "cell_type": "markdown",
   "metadata": {},
   "source": [
    "### 1. 总体主成分分析"
   ]
  },
  {
   "cell_type": "markdown",
   "metadata": {},
   "source": [
    "在某个确定的正交坐标系中，每一个点代表一个样本，每个坐标轴代表一个维度，点在坐标轴上的投影的离散程度表示了样本数据的区分度。当数据的变量之间存在相关性时，其在坐标轴上的投影并没有达到最大的离散程度。可通过旋转坐标系，得到新的数据投影表示，该表示是可能的所有正交坐标系中，投影离散程度最大的(方差和最大)。此时，选取若干个主成分，可对数据进行近似表示，称之为降维。"
   ]
  },
  {
   "cell_type": "markdown",
   "metadata": {},
   "source": []
  },
  {
   "cell_type": "markdown",
   "metadata": {},
   "source": []
  },
  {
   "cell_type": "markdown",
   "metadata": {},
   "source": []
  },
  {
   "cell_type": "markdown",
   "metadata": {},
   "source": []
  },
  {
   "cell_type": "markdown",
   "metadata": {},
   "source": []
  }
 ],
 "metadata": {
  "kernelspec": {
   "display_name": "Python 3",
   "language": "python",
   "name": "python3"
  },
  "language_info": {
   "codemirror_mode": {
    "name": "ipython",
    "version": 3
   },
   "file_extension": ".py",
   "mimetype": "text/x-python",
   "name": "python",
   "nbconvert_exporter": "python",
   "pygments_lexer": "ipython3",
   "version": "3.7.4"
  }
 },
 "nbformat": 4,
 "nbformat_minor": 2
}
