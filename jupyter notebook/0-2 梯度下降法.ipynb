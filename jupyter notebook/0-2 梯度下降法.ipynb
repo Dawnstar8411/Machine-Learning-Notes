{
 "cells": [
  {
   "cell_type": "markdown",
   "metadata": {},
   "source": [
    "梯度下降法用来求解无约束最优化问题，其是迭代算法那，每一步都要求解目标函数的梯度向量，更新变量的值，进行目标函数的极小化，直到收敛。由于负梯度方向是使函数值下降最快的方向，在迭代的每一步，以负梯度方向更新变量的值，从而达到减少目标函数值的目的。"
   ]
  },
  {
   "cell_type": "markdown",
   "metadata": {},
   "source": [
    "输入：目标函数$f(x)$,梯度函数$g(x)=\\bigtriangledown f(x)$, 计算精度$\\epsilon$\n",
    "\n",
    "输出：$f(x)$的极小点$x^*$"
   ]
  },
  {
   "cell_type": "markdown",
   "metadata": {},
   "source": [
    "(1) 取初始值$x^{(0)}\\in R^n$,置$k=0$\n",
    "\n",
    "(2) 计算$f(x^{(k)})$\n",
    "\n",
    "(3) 计算梯度$g_k=g(x^{(k)})$,当$||g_k||<\\epsilon$时，停止迭代，令$x^*=x^{(k)}$;否则，令$p_k=-g(x^{(k)})$,求$\\lambda_k$,使\n",
    "\n",
    "$$f(x^{(k)}+\\lambda_kp_k)=\\min_{\\lambda\\geq 0}f(x^{(k)}+\n",
    "\\lambda p_k)$$ \n",
    "\n",
    "(4) 置$x^{(k+1)}=x^{(k)}+\\lambda_kp_k$,计算$f(x^{(k+1)})$,当$||f(x^{(k+1)})-f(x^{(k)})||<\\epsilon$或$||x^{(k+1)}-x^{(k)}||<\\epsilon$时，停止迭代，令$x^*=x^{(k+1)}$\n",
    "\n",
    "(5) 否则，置$k=k+1$,转(3)"
   ]
  },
  {
   "cell_type": "markdown",
   "metadata": {},
   "source": [
    "当目标函数是凸函数时，梯度下降法的解是全局最优解，一般情况下，其解不保证是全局最优解。"
   ]
  },
  {
   "cell_type": "code",
   "execution_count": null,
   "metadata": {},
   "outputs": [],
   "source": []
  }
 ],
 "metadata": {
  "kernelspec": {
   "display_name": "Python 3",
   "language": "python",
   "name": "python3"
  },
  "language_info": {
   "codemirror_mode": {
    "name": "ipython",
    "version": 3
   },
   "file_extension": ".py",
   "mimetype": "text/x-python",
   "name": "python",
   "nbconvert_exporter": "python",
   "pygments_lexer": "ipython3",
   "version": "3.7.4"
  }
 },
 "nbformat": 4,
 "nbformat_minor": 2
}
