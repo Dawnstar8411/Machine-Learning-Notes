{
 "cells": [
  {
   "cell_type": "markdown",
   "metadata": {},
   "source": [
    "## 聚类方法"
   ]
  },
  {
   "cell_type": "markdown",
   "metadata": {},
   "source": [
    "### 1. 聚类的基本概念"
   ]
  },
  {
   "cell_type": "markdown",
   "metadata": {},
   "source": [
    "聚类：针对给定的样本，依据它们特定的相似度或者距离，将其归并到若干个\"类\"或者\"簇\"的数据分析问题。"
   ]
  },
  {
   "cell_type": "markdown",
   "metadata": {},
   "source": [
    "#### 1.1 相似度或距离"
   ]
  },
  {
   "cell_type": "markdown",
   "metadata": {},
   "source": [
    "（1）闵可夫斯基距离：\n",
    "\n",
    "给定样本集合X，X是m维实数向量空间中的点的集合，其中$x_i,x_j\\in X$, 样本$x_i$与样本$x_j$的闵可夫斯基距离(Minkowski distance)定义为：\n",
    "\n",
    "$$d_{ij}=(\\sum_{k=1}^m|x_{ki}-x_{kj}|^p)^{\\frac{1}{p}}$$\n",
    "\n",
    "当$p=1$时为曼哈顿距离，$p=2$时为欧氏距离，$p=\\infty$时称为切比雪夫距离，取各个坐标数值差的绝对值的最大值"
   ]
  },
  {
   "cell_type": "markdown",
   "metadata": {},
   "source": [
    "（2）马哈拉诺比斯距离（考虑各个分量之间的相关性并与各个分量的尺度无关）：\n",
    "\n",
    "给定一个样本集合X,$X=[x_{ij}]_{m\\times n}$,其协方差矩阵记作S。样本$x_i$与样本$x_j$之间的马氏距离$d_{ij}$定义为：\n",
    "\n",
    "$$d_{ij}=[(x_i-x_j)^TS^{-1}(x_i-x_j)]^{\\frac{1}{2}}$$\n",
    "\n",
    "当S为单位矩阵时，即样本数据的各个分量互相独立且各个分量的方差为1时，马氏距离等价于欧氏距离。"
   ]
  },
  {
   "cell_type": "markdown",
   "metadata": {},
   "source": [
    "（3）相关系数：\n"
   ]
  },
  {
   "cell_type": "code",
   "execution_count": null,
   "metadata": {},
   "outputs": [],
   "source": []
  }
 ],
 "metadata": {
  "kernelspec": {
   "display_name": "Python 3",
   "language": "python",
   "name": "python3"
  },
  "language_info": {
   "codemirror_mode": {
    "name": "ipython",
    "version": 3
   },
   "file_extension": ".py",
   "mimetype": "text/x-python",
   "name": "python",
   "nbconvert_exporter": "python",
   "pygments_lexer": "ipython3",
   "version": "3.7.4"
  }
 },
 "nbformat": 4,
 "nbformat_minor": 2
}
