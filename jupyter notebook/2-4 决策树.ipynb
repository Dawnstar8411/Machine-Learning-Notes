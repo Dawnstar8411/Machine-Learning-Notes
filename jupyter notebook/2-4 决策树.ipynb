{
 "cells": [
  {
   "cell_type": "markdown",
   "metadata": {},
   "source": [
    "### 1. 决策树模型与学习"
   ]
  },
  {
   "cell_type": "markdown",
   "metadata": {},
   "source": [
    "决策树模型呈树形结构，既可以认为是if-then规则的集合，也可以认为是定义在特征空间与类空间上的条件概率分布。学习时，利用训练数据，根据损失函数最小化原则建立决策树模型，预测时，对新的数据，利用决策树模型进行分类。"
   ]
  },
  {
   "cell_type": "markdown",
   "metadata": {},
   "source": [
    "决策树： 分类决策树模型是一种描述对实例进行分类的树形结构。决策树由结点和有向边组成。结点有两种类型：内部节点和叶结点。内部节点表示一个特征或属性，叶结点表示一个类。"
   ]
  },
  {
   "cell_type": "markdown",
   "metadata": {},
   "source": [
    "if-then规则：路径上内部结点的特征对应着规则的条件，而叶结点的类对应着规则的结论。"
   ]
  },
  {
   "cell_type": "markdown",
   "metadata": {},
   "source": [
    "决策树与条件概率分布：决策树表示给定特征条件下类的条件概率分布。将特征空间划分为互不相交的单元，并在每个单元定义一个类的概率分布就构成了一个条件概率分布。决策树的每一条路径对应于划分中的一个单元。各个结点上的条件概率往往偏向于某一个类，即属于某一类的概率较大。决策树分类时将该结点的实例强行分到条件概率大的那一类去。"
   ]
  },
  {
   "cell_type": "markdown",
   "metadata": {},
   "source": [
    "当损失函数确定后，决策树学习问题就变为在损失函数意义下选择最优决策树的问题。从所有可能的决策树中选取最优决策树是NP完全问题，所以现实中决策树学习算法通常采用启发式方法，近似求解这一最优化问题。"
   ]
  },
  {
   "cell_type": "markdown",
   "metadata": {},
   "source": [
    "### 2. 特征选择"
   ]
  },
  {
   "cell_type": "markdown",
   "metadata": {},
   "source": [
    "熵(Entropy)是表示随机变量不确定性的度量。设X是一个取有限个值的离散随机变量，其概率分布为：\n",
    "\n",
    "$$P(X=x_i)=p_i,i=1,2,\\dots,n$$\n",
    "\n",
    "随机变量X的熵定义为：\n",
    "\n",
    "$$H(p)=-\\sum_{i=1}^np_i\\log p_i$$\n",
    "\n",
    "对数底为2时，熵的单位称作比特，对数底为e时，熵的单位为纳特。熵只依赖于X的分布，与X的取值无关。熵越大，随机变量的不确定性越大，且满足$0\\leq H(p)\\leq \\log n$。"
   ]
  },
  {
   "cell_type": "markdown",
   "metadata": {},
   "source": [
    "设有随机变量(X，Y),条件熵$H(Y|X)$表示在已知随机变量X的条件下随机变量Y的不确定性。定义为X给定条件下Y的条件概率分布的熵对X的数学期望：\n",
    "\n",
    "$$H(Y|X)=\\sum^n_{i=1}p_iH(Y|X=x_i)$$\n",
    "\n",
    "当熵和条件熵中的概率由数据估计得到时，分别称为经验熵和经验条件熵，如果有0概率，令$0\\log0=0$"
   ]
  },
  {
   "cell_type": "markdown",
   "metadata": {},
   "source": [
    "信息增益：表示得知X的信息而使得Y的信息的不确定性减少的程度。\n",
    "\n",
    "特征A对训练数据集D的信息增益$g(D,A)$，定义为集合D的经验熵$H(D)$与特征A给定条件下D的经验条件熵H(D|A)之差，即：\n",
    "\n",
    "$$g(D,A)=H(D)-H(D|A)$$"
   ]
  },
  {
   "cell_type": "code",
   "execution_count": null,
   "metadata": {},
   "outputs": [],
   "source": []
  }
 ],
 "metadata": {
  "kernelspec": {
   "display_name": "Python 3",
   "language": "python",
   "name": "python3"
  },
  "language_info": {
   "codemirror_mode": {
    "name": "ipython",
    "version": 3
   },
   "file_extension": ".py",
   "mimetype": "text/x-python",
   "name": "python",
   "nbconvert_exporter": "python",
   "pygments_lexer": "ipython3",
   "version": "3.7.4"
  }
 },
 "nbformat": 4,
 "nbformat_minor": 2
}
